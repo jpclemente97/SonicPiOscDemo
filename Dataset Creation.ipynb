{
 "cells": [
  {
   "cell_type": "markdown",
   "id": "cd689127",
   "metadata": {},
   "source": [
    "# Creating a Training Dataset Through OSC"
   ]
  },
  {
   "cell_type": "code",
   "execution_count": null,
   "id": "d5b54bc1",
   "metadata": {},
   "outputs": [],
   "source": [
    "import os\n",
    "import numpy as np\n",
    "import pandas as pd\n",
    "import sklearn\n",
    "from sklearn import *\n",
    "import matplotlib.pyplot as plt\n",
    "%matplotlib inline\n",
    "import matplotlib.style as ms\n",
    "ms.use('seaborn-muted')\n",
    "from IPython.display import clear_output, display"
   ]
  },
  {
   "cell_type": "code",
   "execution_count": null,
   "id": "43b2e41b",
   "metadata": {},
   "outputs": [],
   "source": [
    "from pythonosc import dispatcher\n",
    "from pythonosc import osc_server\n",
    "\n",
    "data = pd.DataFrame(columns=['x', 'y', 'z'])\n",
    "# To keep track for data collection\n",
    "index = 0\n",
    "\n",
    "x = 0\n",
    "y = 0\n",
    "z = 0\n",
    "\n",
    "#creating a function that will handle and classify accelerometer data\n",
    "def acceleration_vector(address, args):\n",
    "    global data\n",
    "    global index\n",
    "    global x\n",
    "    global y\n",
    "    global z\n",
    "    if address.find('accelerometer/x') != -1:\n",
    "        x = args\n",
    "    elif address.find('accelerometer/y') != -1:\n",
    "        y = args\n",
    "    elif address.find('accelerometer/z') != -1:\n",
    "        z = args\n",
    "        data = data.append({'x': x, 'y': y, 'z': z}, ignore_index=True)\n",
    "        clear_output(wait=True)\n",
    "        print(index)\n",
    "        index = index + 1\n",
    "\n",
    "#attaching the function to the dispatcher\n",
    "dispatcher = dispatcher.Dispatcher()\n",
    "dispatcher.map(\"/accelerometer/*\", acceleration_vector)\n",
    "\n",
    "#starting the OSC server\n",
    "server = osc_server.ThreadingOSCUDPServer(('193.157.241.238', 8000), dispatcher)\n",
    "print(\"Serving on {}\".format(server.server_address))\n",
    "server.serve_forever()"
   ]
  },
  {
   "cell_type": "code",
   "execution_count": null,
   "id": "e7d206b2",
   "metadata": {},
   "outputs": [],
   "source": [
    "server.server_close()"
   ]
  },
  {
   "cell_type": "code",
   "execution_count": null,
   "id": "329fd83b",
   "metadata": {},
   "outputs": [],
   "source": [
    "data.to_csv('out.csv')"
   ]
  }
 ],
 "metadata": {
  "kernelspec": {
   "display_name": "Python 3 (ipykernel)",
   "language": "python",
   "name": "python3"
  },
  "language_info": {
   "codemirror_mode": {
    "name": "ipython",
    "version": 3
   },
   "file_extension": ".py",
   "mimetype": "text/x-python",
   "name": "python",
   "nbconvert_exporter": "python",
   "pygments_lexer": "ipython3",
   "version": "3.9.10"
  }
 },
 "nbformat": 4,
 "nbformat_minor": 5
}
